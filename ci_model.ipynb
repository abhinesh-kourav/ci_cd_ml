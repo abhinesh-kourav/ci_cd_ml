{
 "cells": [
  {
   "attachments": {},
   "cell_type": "markdown",
   "metadata": {},
   "source": [
    "Importing necessary libraries for machine learning"
   ]
  },
  {
   "cell_type": "code",
   "execution_count": 1,
   "metadata": {},
   "outputs": [],
   "source": [
    "import pandas as pd\n",
    "import numpy as np\n",
    "from sklearn.preprocessing import MinMaxScaler\n",
    "from sklearn.model_selection import train_test_split\n",
    "from sklearn.decomposition import PCA\n",
    "import matplotlib.pyplot as plt\n",
    "import warnings\n",
    "warnings.filterwarnings(\"ignore\")"
   ]
  },
  {
   "attachments": {},
   "cell_type": "markdown",
   "metadata": {},
   "source": [
    "Importing the dataset"
   ]
  },
  {
   "cell_type": "code",
   "execution_count": 2,
   "metadata": {},
   "outputs": [],
   "source": [
    "df = pd.read_excel(\"Final_CI_CD_data.xlsx\", sheet_name=\"CI\")"
   ]
  },
  {
   "attachments": {},
   "cell_type": "markdown",
   "metadata": {},
   "source": [
    "Dropping unnecessary columns"
   ]
  },
  {
   "cell_type": "code",
   "execution_count": 3,
   "metadata": {},
   "outputs": [],
   "source": [
    "df = df.drop(['Source','Rock Name', 'Magnesite (%)', 'Dolomite (%)', 'Gypsum (%)', 'Anhydrite (%)', 'UCS (MPa)'], axis=1)"
   ]
  },
  {
   "attachments": {},
   "cell_type": "markdown",
   "metadata": {},
   "source": [
    "Shuffling the dataset for randomness"
   ]
  },
  {
   "cell_type": "code",
   "execution_count": 4,
   "metadata": {},
   "outputs": [
    {
     "data": {
      "text/html": [
       "<div>\n",
       "<style scoped>\n",
       "    .dataframe tbody tr th:only-of-type {\n",
       "        vertical-align: middle;\n",
       "    }\n",
       "\n",
       "    .dataframe tbody tr th {\n",
       "        vertical-align: top;\n",
       "    }\n",
       "\n",
       "    .dataframe thead th {\n",
       "        text-align: right;\n",
       "    }\n",
       "</style>\n",
       "<table border=\"1\" class=\"dataframe\">\n",
       "  <thead>\n",
       "    <tr style=\"text-align: right;\">\n",
       "      <th></th>\n",
       "      <th>Mean Grain Size (mm)</th>\n",
       "      <th>Rock Classification</th>\n",
       "      <th>Plagioclase feldspar (%)</th>\n",
       "      <th>Alkali feldspar (%)</th>\n",
       "      <th>Quartz (%)</th>\n",
       "      <th>Calcite (%)</th>\n",
       "      <th>Clay (%)</th>\n",
       "      <th>Mica (%)</th>\n",
       "      <th>Amphibole (%)</th>\n",
       "      <th>Density (g/cm3)</th>\n",
       "      <th>Porosity (%)</th>\n",
       "      <th>E (GPa)</th>\n",
       "      <th>v</th>\n",
       "      <th>CI (MPa)</th>\n",
       "    </tr>\n",
       "  </thead>\n",
       "  <tbody>\n",
       "    <tr>\n",
       "      <th>0</th>\n",
       "      <td>3.500</td>\n",
       "      <td>Igneous</td>\n",
       "      <td>38.0</td>\n",
       "      <td>27.0</td>\n",
       "      <td>31.0</td>\n",
       "      <td>0</td>\n",
       "      <td>0.0</td>\n",
       "      <td>4.0</td>\n",
       "      <td>0.0</td>\n",
       "      <td>2.620</td>\n",
       "      <td>0.260</td>\n",
       "      <td>66.100</td>\n",
       "      <td>0.31</td>\n",
       "      <td>71.20</td>\n",
       "    </tr>\n",
       "    <tr>\n",
       "      <th>1</th>\n",
       "      <td>3.500</td>\n",
       "      <td>Igneous</td>\n",
       "      <td>38.0</td>\n",
       "      <td>27.0</td>\n",
       "      <td>31.0</td>\n",
       "      <td>0</td>\n",
       "      <td>0.0</td>\n",
       "      <td>4.0</td>\n",
       "      <td>0.0</td>\n",
       "      <td>2.620</td>\n",
       "      <td>0.260</td>\n",
       "      <td>66.100</td>\n",
       "      <td>0.31</td>\n",
       "      <td>66.00</td>\n",
       "    </tr>\n",
       "    <tr>\n",
       "      <th>2</th>\n",
       "      <td>3.500</td>\n",
       "      <td>Igneous</td>\n",
       "      <td>38.0</td>\n",
       "      <td>27.0</td>\n",
       "      <td>31.0</td>\n",
       "      <td>0</td>\n",
       "      <td>0.0</td>\n",
       "      <td>4.0</td>\n",
       "      <td>0.0</td>\n",
       "      <td>2.620</td>\n",
       "      <td>0.260</td>\n",
       "      <td>66.100</td>\n",
       "      <td>0.31</td>\n",
       "      <td>59.10</td>\n",
       "    </tr>\n",
       "    <tr>\n",
       "      <th>3</th>\n",
       "      <td>3.000</td>\n",
       "      <td>Igneous</td>\n",
       "      <td>34.0</td>\n",
       "      <td>23.0</td>\n",
       "      <td>36.0</td>\n",
       "      <td>0</td>\n",
       "      <td>0.0</td>\n",
       "      <td>6.0</td>\n",
       "      <td>0.0</td>\n",
       "      <td>2.650</td>\n",
       "      <td>0.400</td>\n",
       "      <td>72.600</td>\n",
       "      <td>0.26</td>\n",
       "      <td>126.50</td>\n",
       "    </tr>\n",
       "    <tr>\n",
       "      <th>4</th>\n",
       "      <td>0.002</td>\n",
       "      <td>Sedimentary</td>\n",
       "      <td>0.0</td>\n",
       "      <td>4.0</td>\n",
       "      <td>15.0</td>\n",
       "      <td>15</td>\n",
       "      <td>60.0</td>\n",
       "      <td>0.0</td>\n",
       "      <td>0.0</td>\n",
       "      <td>2.150</td>\n",
       "      <td>18.000</td>\n",
       "      <td>2.134</td>\n",
       "      <td>0.16</td>\n",
       "      <td>2.14</td>\n",
       "    </tr>\n",
       "    <tr>\n",
       "      <th>...</th>\n",
       "      <td>...</td>\n",
       "      <td>...</td>\n",
       "      <td>...</td>\n",
       "      <td>...</td>\n",
       "      <td>...</td>\n",
       "      <td>...</td>\n",
       "      <td>...</td>\n",
       "      <td>...</td>\n",
       "      <td>...</td>\n",
       "      <td>...</td>\n",
       "      <td>...</td>\n",
       "      <td>...</td>\n",
       "      <td>...</td>\n",
       "      <td>...</td>\n",
       "    </tr>\n",
       "    <tr>\n",
       "      <th>1339</th>\n",
       "      <td>2.000</td>\n",
       "      <td>Metamorphic</td>\n",
       "      <td>17.0</td>\n",
       "      <td>11.0</td>\n",
       "      <td>34.0</td>\n",
       "      <td>0</td>\n",
       "      <td>0.0</td>\n",
       "      <td>26.0</td>\n",
       "      <td>0.0</td>\n",
       "      <td>2.724</td>\n",
       "      <td>0.183</td>\n",
       "      <td>68.070</td>\n",
       "      <td>0.23</td>\n",
       "      <td>51.00</td>\n",
       "    </tr>\n",
       "    <tr>\n",
       "      <th>1340</th>\n",
       "      <td>2.500</td>\n",
       "      <td>Igneous</td>\n",
       "      <td>34.0</td>\n",
       "      <td>25.0</td>\n",
       "      <td>22.0</td>\n",
       "      <td>0</td>\n",
       "      <td>0.0</td>\n",
       "      <td>12.0</td>\n",
       "      <td>7.0</td>\n",
       "      <td>2.640</td>\n",
       "      <td>0.960</td>\n",
       "      <td>51.700</td>\n",
       "      <td>0.19</td>\n",
       "      <td>58.68</td>\n",
       "    </tr>\n",
       "    <tr>\n",
       "      <th>1341</th>\n",
       "      <td>1.500</td>\n",
       "      <td>Igneous</td>\n",
       "      <td>73.0</td>\n",
       "      <td>8.0</td>\n",
       "      <td>19.0</td>\n",
       "      <td>0</td>\n",
       "      <td>0.0</td>\n",
       "      <td>0.0</td>\n",
       "      <td>0.0</td>\n",
       "      <td>2.740</td>\n",
       "      <td>0.400</td>\n",
       "      <td>73.000</td>\n",
       "      <td>0.29</td>\n",
       "      <td>157.00</td>\n",
       "    </tr>\n",
       "    <tr>\n",
       "      <th>1342</th>\n",
       "      <td>1.750</td>\n",
       "      <td>Igneous</td>\n",
       "      <td>44.0</td>\n",
       "      <td>20.0</td>\n",
       "      <td>22.0</td>\n",
       "      <td>0</td>\n",
       "      <td>0.0</td>\n",
       "      <td>9.0</td>\n",
       "      <td>0.0</td>\n",
       "      <td>2.685</td>\n",
       "      <td>0.240</td>\n",
       "      <td>73.000</td>\n",
       "      <td>0.12</td>\n",
       "      <td>86.00</td>\n",
       "    </tr>\n",
       "    <tr>\n",
       "      <th>1343</th>\n",
       "      <td>0.750</td>\n",
       "      <td>Igneous</td>\n",
       "      <td>26.0</td>\n",
       "      <td>32.0</td>\n",
       "      <td>37.0</td>\n",
       "      <td>0</td>\n",
       "      <td>0.0</td>\n",
       "      <td>4.0</td>\n",
       "      <td>0.0</td>\n",
       "      <td>2.630</td>\n",
       "      <td>0.600</td>\n",
       "      <td>72.000</td>\n",
       "      <td>0.20</td>\n",
       "      <td>137.00</td>\n",
       "    </tr>\n",
       "  </tbody>\n",
       "</table>\n",
       "<p>1344 rows × 14 columns</p>\n",
       "</div>"
      ],
      "text/plain": [
       "      Mean Grain Size (mm) Rock Classification  Plagioclase feldspar (%)  \\\n",
       "0                    3.500             Igneous                      38.0   \n",
       "1                    3.500             Igneous                      38.0   \n",
       "2                    3.500             Igneous                      38.0   \n",
       "3                    3.000             Igneous                      34.0   \n",
       "4                    0.002         Sedimentary                       0.0   \n",
       "...                    ...                 ...                       ...   \n",
       "1339                 2.000         Metamorphic                      17.0   \n",
       "1340                 2.500             Igneous                      34.0   \n",
       "1341                 1.500             Igneous                      73.0   \n",
       "1342                 1.750             Igneous                      44.0   \n",
       "1343                 0.750             Igneous                      26.0   \n",
       "\n",
       "      Alkali feldspar (%)  Quartz (%)  Calcite (%)  Clay (%)  Mica (%)  \\\n",
       "0                    27.0        31.0            0       0.0       4.0   \n",
       "1                    27.0        31.0            0       0.0       4.0   \n",
       "2                    27.0        31.0            0       0.0       4.0   \n",
       "3                    23.0        36.0            0       0.0       6.0   \n",
       "4                     4.0        15.0           15      60.0       0.0   \n",
       "...                   ...         ...          ...       ...       ...   \n",
       "1339                 11.0        34.0            0       0.0      26.0   \n",
       "1340                 25.0        22.0            0       0.0      12.0   \n",
       "1341                  8.0        19.0            0       0.0       0.0   \n",
       "1342                 20.0        22.0            0       0.0       9.0   \n",
       "1343                 32.0        37.0            0       0.0       4.0   \n",
       "\n",
       "      Amphibole (%)  Density (g/cm3)  Porosity (%)  E (GPa)     v  CI (MPa)  \n",
       "0               0.0            2.620         0.260   66.100  0.31     71.20  \n",
       "1               0.0            2.620         0.260   66.100  0.31     66.00  \n",
       "2               0.0            2.620         0.260   66.100  0.31     59.10  \n",
       "3               0.0            2.650         0.400   72.600  0.26    126.50  \n",
       "4               0.0            2.150        18.000    2.134  0.16      2.14  \n",
       "...             ...              ...           ...      ...   ...       ...  \n",
       "1339            0.0            2.724         0.183   68.070  0.23     51.00  \n",
       "1340            7.0            2.640         0.960   51.700  0.19     58.68  \n",
       "1341            0.0            2.740         0.400   73.000  0.29    157.00  \n",
       "1342            0.0            2.685         0.240   73.000  0.12     86.00  \n",
       "1343            0.0            2.630         0.600   72.000  0.20    137.00  \n",
       "\n",
       "[1344 rows x 14 columns]"
      ]
     },
     "execution_count": 4,
     "metadata": {},
     "output_type": "execute_result"
    }
   ],
   "source": [
    "df = df.sample(frac=1, random_state=13).reset_index(drop=True)\n",
    "df"
   ]
  },
  {
   "attachments": {},
   "cell_type": "markdown",
   "metadata": {},
   "source": [
    "## DATA TRANSFORMATION"
   ]
  },
  {
   "attachments": {},
   "cell_type": "markdown",
   "metadata": {},
   "source": [
    "Applying one-hot encoding to convert qualitative feature \"Rock Classification\" into three numerical binary columns"
   ]
  },
  {
   "cell_type": "code",
   "execution_count": 5,
   "metadata": {},
   "outputs": [],
   "source": [
    "\n",
    "def one_hot_encode(df, column_name):\n",
    "    \"\"\"\n",
    "    Perform one-hot encoding on a specified column of a Pandas DataFrame.\n",
    "    \n",
    "    Parameters:\n",
    "    -----------\n",
    "    df : pandas DataFrame\n",
    "        The DataFrame to be encoded.\n",
    "    column_name : str\n",
    "        The name of the column to be encoded.\n",
    "    \n",
    "    Returns:\n",
    "    --------\n",
    "    pandas DataFrame\n",
    "        The encoded DataFrame.\n",
    "    \"\"\"\n",
    "    # Create a new DataFrame with the one-hot encoded columns\n",
    "    encoded_cols = pd.get_dummies(df[column_name], prefix=column_name)\n",
    "    \n",
    "    # Concatenate the original DataFrame with the encoded columns\n",
    "    df_encoded = pd.concat([df, encoded_cols], axis=1)\n",
    "    \n",
    "    # Drop the original categorical column\n",
    "    df_encoded.drop(column_name, axis=1, inplace=True)\n",
    "    \n",
    "    return df_encoded"
   ]
  },
  {
   "cell_type": "code",
   "execution_count": 6,
   "metadata": {},
   "outputs": [],
   "source": [
    "df = one_hot_encode(df,\"Rock Classification\")"
   ]
  },
  {
   "attachments": {},
   "cell_type": "markdown",
   "metadata": {},
   "source": [
    "Changing the column name of new columns to \"IGN\", \"MET\", \"SED\" for igneous, metamorphic and sedimentary, respectively."
   ]
  },
  {
   "cell_type": "code",
   "execution_count": 7,
   "metadata": {},
   "outputs": [
    {
     "data": {
      "text/html": [
       "<div>\n",
       "<style scoped>\n",
       "    .dataframe tbody tr th:only-of-type {\n",
       "        vertical-align: middle;\n",
       "    }\n",
       "\n",
       "    .dataframe tbody tr th {\n",
       "        vertical-align: top;\n",
       "    }\n",
       "\n",
       "    .dataframe thead th {\n",
       "        text-align: right;\n",
       "    }\n",
       "</style>\n",
       "<table border=\"1\" class=\"dataframe\">\n",
       "  <thead>\n",
       "    <tr style=\"text-align: right;\">\n",
       "      <th></th>\n",
       "      <th>IGN</th>\n",
       "      <th>MET</th>\n",
       "      <th>SED</th>\n",
       "      <th>Mean Grain Size (mm)</th>\n",
       "      <th>Plagioclase feldspar (%)</th>\n",
       "      <th>Alkali feldspar (%)</th>\n",
       "      <th>Quartz (%)</th>\n",
       "      <th>Calcite (%)</th>\n",
       "      <th>Clay (%)</th>\n",
       "      <th>Mica (%)</th>\n",
       "      <th>Amphibole (%)</th>\n",
       "      <th>Density (g/cm3)</th>\n",
       "      <th>Porosity (%)</th>\n",
       "      <th>E (GPa)</th>\n",
       "      <th>v</th>\n",
       "      <th>CI (MPa)</th>\n",
       "    </tr>\n",
       "  </thead>\n",
       "  <tbody>\n",
       "    <tr>\n",
       "      <th>0</th>\n",
       "      <td>1</td>\n",
       "      <td>0</td>\n",
       "      <td>0</td>\n",
       "      <td>3.500</td>\n",
       "      <td>38.0</td>\n",
       "      <td>27.0</td>\n",
       "      <td>31.0</td>\n",
       "      <td>0</td>\n",
       "      <td>0.0</td>\n",
       "      <td>4.0</td>\n",
       "      <td>0.0</td>\n",
       "      <td>2.620</td>\n",
       "      <td>0.260</td>\n",
       "      <td>66.100</td>\n",
       "      <td>0.31</td>\n",
       "      <td>71.20</td>\n",
       "    </tr>\n",
       "    <tr>\n",
       "      <th>1</th>\n",
       "      <td>1</td>\n",
       "      <td>0</td>\n",
       "      <td>0</td>\n",
       "      <td>3.500</td>\n",
       "      <td>38.0</td>\n",
       "      <td>27.0</td>\n",
       "      <td>31.0</td>\n",
       "      <td>0</td>\n",
       "      <td>0.0</td>\n",
       "      <td>4.0</td>\n",
       "      <td>0.0</td>\n",
       "      <td>2.620</td>\n",
       "      <td>0.260</td>\n",
       "      <td>66.100</td>\n",
       "      <td>0.31</td>\n",
       "      <td>66.00</td>\n",
       "    </tr>\n",
       "    <tr>\n",
       "      <th>2</th>\n",
       "      <td>1</td>\n",
       "      <td>0</td>\n",
       "      <td>0</td>\n",
       "      <td>3.500</td>\n",
       "      <td>38.0</td>\n",
       "      <td>27.0</td>\n",
       "      <td>31.0</td>\n",
       "      <td>0</td>\n",
       "      <td>0.0</td>\n",
       "      <td>4.0</td>\n",
       "      <td>0.0</td>\n",
       "      <td>2.620</td>\n",
       "      <td>0.260</td>\n",
       "      <td>66.100</td>\n",
       "      <td>0.31</td>\n",
       "      <td>59.10</td>\n",
       "    </tr>\n",
       "    <tr>\n",
       "      <th>3</th>\n",
       "      <td>1</td>\n",
       "      <td>0</td>\n",
       "      <td>0</td>\n",
       "      <td>3.000</td>\n",
       "      <td>34.0</td>\n",
       "      <td>23.0</td>\n",
       "      <td>36.0</td>\n",
       "      <td>0</td>\n",
       "      <td>0.0</td>\n",
       "      <td>6.0</td>\n",
       "      <td>0.0</td>\n",
       "      <td>2.650</td>\n",
       "      <td>0.400</td>\n",
       "      <td>72.600</td>\n",
       "      <td>0.26</td>\n",
       "      <td>126.50</td>\n",
       "    </tr>\n",
       "    <tr>\n",
       "      <th>4</th>\n",
       "      <td>0</td>\n",
       "      <td>0</td>\n",
       "      <td>1</td>\n",
       "      <td>0.002</td>\n",
       "      <td>0.0</td>\n",
       "      <td>4.0</td>\n",
       "      <td>15.0</td>\n",
       "      <td>15</td>\n",
       "      <td>60.0</td>\n",
       "      <td>0.0</td>\n",
       "      <td>0.0</td>\n",
       "      <td>2.150</td>\n",
       "      <td>18.000</td>\n",
       "      <td>2.134</td>\n",
       "      <td>0.16</td>\n",
       "      <td>2.14</td>\n",
       "    </tr>\n",
       "    <tr>\n",
       "      <th>...</th>\n",
       "      <td>...</td>\n",
       "      <td>...</td>\n",
       "      <td>...</td>\n",
       "      <td>...</td>\n",
       "      <td>...</td>\n",
       "      <td>...</td>\n",
       "      <td>...</td>\n",
       "      <td>...</td>\n",
       "      <td>...</td>\n",
       "      <td>...</td>\n",
       "      <td>...</td>\n",
       "      <td>...</td>\n",
       "      <td>...</td>\n",
       "      <td>...</td>\n",
       "      <td>...</td>\n",
       "      <td>...</td>\n",
       "    </tr>\n",
       "    <tr>\n",
       "      <th>1339</th>\n",
       "      <td>0</td>\n",
       "      <td>1</td>\n",
       "      <td>0</td>\n",
       "      <td>2.000</td>\n",
       "      <td>17.0</td>\n",
       "      <td>11.0</td>\n",
       "      <td>34.0</td>\n",
       "      <td>0</td>\n",
       "      <td>0.0</td>\n",
       "      <td>26.0</td>\n",
       "      <td>0.0</td>\n",
       "      <td>2.724</td>\n",
       "      <td>0.183</td>\n",
       "      <td>68.070</td>\n",
       "      <td>0.23</td>\n",
       "      <td>51.00</td>\n",
       "    </tr>\n",
       "    <tr>\n",
       "      <th>1340</th>\n",
       "      <td>1</td>\n",
       "      <td>0</td>\n",
       "      <td>0</td>\n",
       "      <td>2.500</td>\n",
       "      <td>34.0</td>\n",
       "      <td>25.0</td>\n",
       "      <td>22.0</td>\n",
       "      <td>0</td>\n",
       "      <td>0.0</td>\n",
       "      <td>12.0</td>\n",
       "      <td>7.0</td>\n",
       "      <td>2.640</td>\n",
       "      <td>0.960</td>\n",
       "      <td>51.700</td>\n",
       "      <td>0.19</td>\n",
       "      <td>58.68</td>\n",
       "    </tr>\n",
       "    <tr>\n",
       "      <th>1341</th>\n",
       "      <td>1</td>\n",
       "      <td>0</td>\n",
       "      <td>0</td>\n",
       "      <td>1.500</td>\n",
       "      <td>73.0</td>\n",
       "      <td>8.0</td>\n",
       "      <td>19.0</td>\n",
       "      <td>0</td>\n",
       "      <td>0.0</td>\n",
       "      <td>0.0</td>\n",
       "      <td>0.0</td>\n",
       "      <td>2.740</td>\n",
       "      <td>0.400</td>\n",
       "      <td>73.000</td>\n",
       "      <td>0.29</td>\n",
       "      <td>157.00</td>\n",
       "    </tr>\n",
       "    <tr>\n",
       "      <th>1342</th>\n",
       "      <td>1</td>\n",
       "      <td>0</td>\n",
       "      <td>0</td>\n",
       "      <td>1.750</td>\n",
       "      <td>44.0</td>\n",
       "      <td>20.0</td>\n",
       "      <td>22.0</td>\n",
       "      <td>0</td>\n",
       "      <td>0.0</td>\n",
       "      <td>9.0</td>\n",
       "      <td>0.0</td>\n",
       "      <td>2.685</td>\n",
       "      <td>0.240</td>\n",
       "      <td>73.000</td>\n",
       "      <td>0.12</td>\n",
       "      <td>86.00</td>\n",
       "    </tr>\n",
       "    <tr>\n",
       "      <th>1343</th>\n",
       "      <td>1</td>\n",
       "      <td>0</td>\n",
       "      <td>0</td>\n",
       "      <td>0.750</td>\n",
       "      <td>26.0</td>\n",
       "      <td>32.0</td>\n",
       "      <td>37.0</td>\n",
       "      <td>0</td>\n",
       "      <td>0.0</td>\n",
       "      <td>4.0</td>\n",
       "      <td>0.0</td>\n",
       "      <td>2.630</td>\n",
       "      <td>0.600</td>\n",
       "      <td>72.000</td>\n",
       "      <td>0.20</td>\n",
       "      <td>137.00</td>\n",
       "    </tr>\n",
       "  </tbody>\n",
       "</table>\n",
       "<p>1344 rows × 16 columns</p>\n",
       "</div>"
      ],
      "text/plain": [
       "      IGN  MET  SED  Mean Grain Size (mm)  Plagioclase feldspar (%)  \\\n",
       "0       1    0    0                 3.500                      38.0   \n",
       "1       1    0    0                 3.500                      38.0   \n",
       "2       1    0    0                 3.500                      38.0   \n",
       "3       1    0    0                 3.000                      34.0   \n",
       "4       0    0    1                 0.002                       0.0   \n",
       "...   ...  ...  ...                   ...                       ...   \n",
       "1339    0    1    0                 2.000                      17.0   \n",
       "1340    1    0    0                 2.500                      34.0   \n",
       "1341    1    0    0                 1.500                      73.0   \n",
       "1342    1    0    0                 1.750                      44.0   \n",
       "1343    1    0    0                 0.750                      26.0   \n",
       "\n",
       "      Alkali feldspar (%)  Quartz (%)  Calcite (%)  Clay (%)  Mica (%)  \\\n",
       "0                    27.0        31.0            0       0.0       4.0   \n",
       "1                    27.0        31.0            0       0.0       4.0   \n",
       "2                    27.0        31.0            0       0.0       4.0   \n",
       "3                    23.0        36.0            0       0.0       6.0   \n",
       "4                     4.0        15.0           15      60.0       0.0   \n",
       "...                   ...         ...          ...       ...       ...   \n",
       "1339                 11.0        34.0            0       0.0      26.0   \n",
       "1340                 25.0        22.0            0       0.0      12.0   \n",
       "1341                  8.0        19.0            0       0.0       0.0   \n",
       "1342                 20.0        22.0            0       0.0       9.0   \n",
       "1343                 32.0        37.0            0       0.0       4.0   \n",
       "\n",
       "      Amphibole (%)  Density (g/cm3)  Porosity (%)  E (GPa)     v  CI (MPa)  \n",
       "0               0.0            2.620         0.260   66.100  0.31     71.20  \n",
       "1               0.0            2.620         0.260   66.100  0.31     66.00  \n",
       "2               0.0            2.620         0.260   66.100  0.31     59.10  \n",
       "3               0.0            2.650         0.400   72.600  0.26    126.50  \n",
       "4               0.0            2.150        18.000    2.134  0.16      2.14  \n",
       "...             ...              ...           ...      ...   ...       ...  \n",
       "1339            0.0            2.724         0.183   68.070  0.23     51.00  \n",
       "1340            7.0            2.640         0.960   51.700  0.19     58.68  \n",
       "1341            0.0            2.740         0.400   73.000  0.29    157.00  \n",
       "1342            0.0            2.685         0.240   73.000  0.12     86.00  \n",
       "1343            0.0            2.630         0.600   72.000  0.20    137.00  \n",
       "\n",
       "[1344 rows x 16 columns]"
      ]
     },
     "execution_count": 7,
     "metadata": {},
     "output_type": "execute_result"
    }
   ],
   "source": [
    "num_columns = len(df.columns)\n",
    "last_three_columns = df.iloc[:, num_columns - 3:]\n",
    "first_columns = df.iloc[:, :num_columns - 3]\n",
    "\n",
    "# Concatenate the last three columns with the first columns\n",
    "df = pd.concat([last_three_columns, first_columns], axis=1)\n",
    "new_column_names = ['IGN', 'MET', 'SED']\n",
    "df = df.rename(columns=dict(zip(df.columns[:3], new_column_names)))\n",
    "df"
   ]
  },
  {
   "attachments": {},
   "cell_type": "markdown",
   "metadata": {},
   "source": [
    "Normalising all columns so that each one's value fall between 0 and 1."
   ]
  },
  {
   "cell_type": "code",
   "execution_count": 8,
   "metadata": {},
   "outputs": [],
   "source": [
    "def normalize_numeric_columns(df, dependent_col):\n",
    "    \"\"\"\n",
    "    Normalize all numerical columns in a Pandas DataFrame, except for a specified dependent column.\n",
    "    \n",
    "    Parameters:\n",
    "    -----------\n",
    "    df : pandas DataFrame\n",
    "        The DataFrame to be normalized.\n",
    "    dependent_col : str\n",
    "        The name of the dependent column (i.e., the column to be predicted) that should not be normalized.\n",
    "    \n",
    "    Returns:\n",
    "    --------\n",
    "    pandas DataFrame\n",
    "        The normalized DataFrame.\n",
    "    \"\"\"\n",
    "    # Get the names of all numerical columns except for the dependent column\n",
    "    numeric_cols = [col for col in df.columns if col != dependent_col and pd.api.types.is_numeric_dtype(df[col])]\n",
    "    \n",
    "    # Create a scaler object to normalize the data\n",
    "    scaler = MinMaxScaler()\n",
    "    \n",
    "    # Normalize the numerical columns\n",
    "    df[numeric_cols] = scaler.fit_transform(df[numeric_cols])\n",
    "    \n",
    "    return df"
   ]
  },
  {
   "cell_type": "code",
   "execution_count": 9,
   "metadata": {},
   "outputs": [],
   "source": [
    "df = normalize_numeric_columns(df, \"CI_MPa\")"
   ]
  },
  {
   "cell_type": "code",
   "execution_count": 10,
   "metadata": {
    "scrolled": false
   },
   "outputs": [
    {
     "data": {
      "text/html": [
       "<div>\n",
       "<style scoped>\n",
       "    .dataframe tbody tr th:only-of-type {\n",
       "        vertical-align: middle;\n",
       "    }\n",
       "\n",
       "    .dataframe tbody tr th {\n",
       "        vertical-align: top;\n",
       "    }\n",
       "\n",
       "    .dataframe thead th {\n",
       "        text-align: right;\n",
       "    }\n",
       "</style>\n",
       "<table border=\"1\" class=\"dataframe\">\n",
       "  <thead>\n",
       "    <tr style=\"text-align: right;\">\n",
       "      <th></th>\n",
       "      <th>IGN</th>\n",
       "      <th>MET</th>\n",
       "      <th>SED</th>\n",
       "      <th>Mean Grain Size (mm)</th>\n",
       "      <th>Plagioclase feldspar (%)</th>\n",
       "      <th>Alkali feldspar (%)</th>\n",
       "      <th>Quartz (%)</th>\n",
       "      <th>Calcite (%)</th>\n",
       "      <th>Clay (%)</th>\n",
       "      <th>Mica (%)</th>\n",
       "      <th>Amphibole (%)</th>\n",
       "      <th>Density (g/cm3)</th>\n",
       "      <th>Porosity (%)</th>\n",
       "      <th>E (GPa)</th>\n",
       "      <th>v</th>\n",
       "      <th>CI (MPa)</th>\n",
       "    </tr>\n",
       "  </thead>\n",
       "  <tbody>\n",
       "    <tr>\n",
       "      <th>0</th>\n",
       "      <td>1.0</td>\n",
       "      <td>0.0</td>\n",
       "      <td>0.0</td>\n",
       "      <td>0.174917</td>\n",
       "      <td>0.520548</td>\n",
       "      <td>0.465517</td>\n",
       "      <td>0.326316</td>\n",
       "      <td>0.00</td>\n",
       "      <td>0.00000</td>\n",
       "      <td>0.100</td>\n",
       "      <td>0.0000</td>\n",
       "      <td>0.670330</td>\n",
       "      <td>0.007667</td>\n",
       "      <td>0.723293</td>\n",
       "      <td>0.642857</td>\n",
       "      <td>0.369673</td>\n",
       "    </tr>\n",
       "    <tr>\n",
       "      <th>1</th>\n",
       "      <td>1.0</td>\n",
       "      <td>0.0</td>\n",
       "      <td>0.0</td>\n",
       "      <td>0.174917</td>\n",
       "      <td>0.520548</td>\n",
       "      <td>0.465517</td>\n",
       "      <td>0.326316</td>\n",
       "      <td>0.00</td>\n",
       "      <td>0.00000</td>\n",
       "      <td>0.100</td>\n",
       "      <td>0.0000</td>\n",
       "      <td>0.670330</td>\n",
       "      <td>0.007667</td>\n",
       "      <td>0.723293</td>\n",
       "      <td>0.642857</td>\n",
       "      <td>0.342313</td>\n",
       "    </tr>\n",
       "    <tr>\n",
       "      <th>2</th>\n",
       "      <td>1.0</td>\n",
       "      <td>0.0</td>\n",
       "      <td>0.0</td>\n",
       "      <td>0.174917</td>\n",
       "      <td>0.520548</td>\n",
       "      <td>0.465517</td>\n",
       "      <td>0.326316</td>\n",
       "      <td>0.00</td>\n",
       "      <td>0.00000</td>\n",
       "      <td>0.100</td>\n",
       "      <td>0.0000</td>\n",
       "      <td>0.670330</td>\n",
       "      <td>0.007667</td>\n",
       "      <td>0.723293</td>\n",
       "      <td>0.642857</td>\n",
       "      <td>0.306009</td>\n",
       "    </tr>\n",
       "    <tr>\n",
       "      <th>3</th>\n",
       "      <td>1.0</td>\n",
       "      <td>0.0</td>\n",
       "      <td>0.0</td>\n",
       "      <td>0.149915</td>\n",
       "      <td>0.465753</td>\n",
       "      <td>0.396552</td>\n",
       "      <td>0.378947</td>\n",
       "      <td>0.00</td>\n",
       "      <td>0.00000</td>\n",
       "      <td>0.150</td>\n",
       "      <td>0.0000</td>\n",
       "      <td>0.703297</td>\n",
       "      <td>0.013171</td>\n",
       "      <td>0.795526</td>\n",
       "      <td>0.523810</td>\n",
       "      <td>0.660633</td>\n",
       "    </tr>\n",
       "    <tr>\n",
       "      <th>4</th>\n",
       "      <td>0.0</td>\n",
       "      <td>0.0</td>\n",
       "      <td>1.0</td>\n",
       "      <td>0.000000</td>\n",
       "      <td>0.000000</td>\n",
       "      <td>0.068966</td>\n",
       "      <td>0.157895</td>\n",
       "      <td>0.15</td>\n",
       "      <td>0.84507</td>\n",
       "      <td>0.000</td>\n",
       "      <td>0.0000</td>\n",
       "      <td>0.153846</td>\n",
       "      <td>0.705131</td>\n",
       "      <td>0.012457</td>\n",
       "      <td>0.285714</td>\n",
       "      <td>0.006314</td>\n",
       "    </tr>\n",
       "    <tr>\n",
       "      <th>...</th>\n",
       "      <td>...</td>\n",
       "      <td>...</td>\n",
       "      <td>...</td>\n",
       "      <td>...</td>\n",
       "      <td>...</td>\n",
       "      <td>...</td>\n",
       "      <td>...</td>\n",
       "      <td>...</td>\n",
       "      <td>...</td>\n",
       "      <td>...</td>\n",
       "      <td>...</td>\n",
       "      <td>...</td>\n",
       "      <td>...</td>\n",
       "      <td>...</td>\n",
       "      <td>...</td>\n",
       "      <td>...</td>\n",
       "    </tr>\n",
       "    <tr>\n",
       "      <th>1339</th>\n",
       "      <td>0.0</td>\n",
       "      <td>1.0</td>\n",
       "      <td>0.0</td>\n",
       "      <td>0.099910</td>\n",
       "      <td>0.232877</td>\n",
       "      <td>0.189655</td>\n",
       "      <td>0.357895</td>\n",
       "      <td>0.00</td>\n",
       "      <td>0.00000</td>\n",
       "      <td>0.650</td>\n",
       "      <td>0.0000</td>\n",
       "      <td>0.784615</td>\n",
       "      <td>0.004639</td>\n",
       "      <td>0.745185</td>\n",
       "      <td>0.452381</td>\n",
       "      <td>0.263391</td>\n",
       "    </tr>\n",
       "    <tr>\n",
       "      <th>1340</th>\n",
       "      <td>1.0</td>\n",
       "      <td>0.0</td>\n",
       "      <td>0.0</td>\n",
       "      <td>0.124912</td>\n",
       "      <td>0.465753</td>\n",
       "      <td>0.431034</td>\n",
       "      <td>0.231579</td>\n",
       "      <td>0.00</td>\n",
       "      <td>0.00000</td>\n",
       "      <td>0.300</td>\n",
       "      <td>0.0875</td>\n",
       "      <td>0.692308</td>\n",
       "      <td>0.035188</td>\n",
       "      <td>0.563270</td>\n",
       "      <td>0.357143</td>\n",
       "      <td>0.303799</td>\n",
       "    </tr>\n",
       "    <tr>\n",
       "      <th>1341</th>\n",
       "      <td>1.0</td>\n",
       "      <td>0.0</td>\n",
       "      <td>0.0</td>\n",
       "      <td>0.074907</td>\n",
       "      <td>1.000000</td>\n",
       "      <td>0.137931</td>\n",
       "      <td>0.200000</td>\n",
       "      <td>0.00</td>\n",
       "      <td>0.00000</td>\n",
       "      <td>0.000</td>\n",
       "      <td>0.0000</td>\n",
       "      <td>0.802198</td>\n",
       "      <td>0.013171</td>\n",
       "      <td>0.799971</td>\n",
       "      <td>0.595238</td>\n",
       "      <td>0.821109</td>\n",
       "    </tr>\n",
       "    <tr>\n",
       "      <th>1342</th>\n",
       "      <td>1.0</td>\n",
       "      <td>0.0</td>\n",
       "      <td>0.0</td>\n",
       "      <td>0.087409</td>\n",
       "      <td>0.602740</td>\n",
       "      <td>0.344828</td>\n",
       "      <td>0.231579</td>\n",
       "      <td>0.00</td>\n",
       "      <td>0.00000</td>\n",
       "      <td>0.225</td>\n",
       "      <td>0.0000</td>\n",
       "      <td>0.741758</td>\n",
       "      <td>0.006880</td>\n",
       "      <td>0.799971</td>\n",
       "      <td>0.190476</td>\n",
       "      <td>0.447543</td>\n",
       "    </tr>\n",
       "    <tr>\n",
       "      <th>1343</th>\n",
       "      <td>1.0</td>\n",
       "      <td>0.0</td>\n",
       "      <td>0.0</td>\n",
       "      <td>0.037404</td>\n",
       "      <td>0.356164</td>\n",
       "      <td>0.551724</td>\n",
       "      <td>0.389474</td>\n",
       "      <td>0.00</td>\n",
       "      <td>0.00000</td>\n",
       "      <td>0.100</td>\n",
       "      <td>0.0000</td>\n",
       "      <td>0.681319</td>\n",
       "      <td>0.021034</td>\n",
       "      <td>0.788858</td>\n",
       "      <td>0.380952</td>\n",
       "      <td>0.715879</td>\n",
       "    </tr>\n",
       "  </tbody>\n",
       "</table>\n",
       "<p>1344 rows × 16 columns</p>\n",
       "</div>"
      ],
      "text/plain": [
       "      IGN  MET  SED  Mean Grain Size (mm)  Plagioclase feldspar (%)  \\\n",
       "0     1.0  0.0  0.0              0.174917                  0.520548   \n",
       "1     1.0  0.0  0.0              0.174917                  0.520548   \n",
       "2     1.0  0.0  0.0              0.174917                  0.520548   \n",
       "3     1.0  0.0  0.0              0.149915                  0.465753   \n",
       "4     0.0  0.0  1.0              0.000000                  0.000000   \n",
       "...   ...  ...  ...                   ...                       ...   \n",
       "1339  0.0  1.0  0.0              0.099910                  0.232877   \n",
       "1340  1.0  0.0  0.0              0.124912                  0.465753   \n",
       "1341  1.0  0.0  0.0              0.074907                  1.000000   \n",
       "1342  1.0  0.0  0.0              0.087409                  0.602740   \n",
       "1343  1.0  0.0  0.0              0.037404                  0.356164   \n",
       "\n",
       "      Alkali feldspar (%)  Quartz (%)  Calcite (%)  Clay (%)  Mica (%)  \\\n",
       "0                0.465517    0.326316         0.00   0.00000     0.100   \n",
       "1                0.465517    0.326316         0.00   0.00000     0.100   \n",
       "2                0.465517    0.326316         0.00   0.00000     0.100   \n",
       "3                0.396552    0.378947         0.00   0.00000     0.150   \n",
       "4                0.068966    0.157895         0.15   0.84507     0.000   \n",
       "...                   ...         ...          ...       ...       ...   \n",
       "1339             0.189655    0.357895         0.00   0.00000     0.650   \n",
       "1340             0.431034    0.231579         0.00   0.00000     0.300   \n",
       "1341             0.137931    0.200000         0.00   0.00000     0.000   \n",
       "1342             0.344828    0.231579         0.00   0.00000     0.225   \n",
       "1343             0.551724    0.389474         0.00   0.00000     0.100   \n",
       "\n",
       "      Amphibole (%)  Density (g/cm3)  Porosity (%)   E (GPa)         v  \\\n",
       "0            0.0000         0.670330      0.007667  0.723293  0.642857   \n",
       "1            0.0000         0.670330      0.007667  0.723293  0.642857   \n",
       "2            0.0000         0.670330      0.007667  0.723293  0.642857   \n",
       "3            0.0000         0.703297      0.013171  0.795526  0.523810   \n",
       "4            0.0000         0.153846      0.705131  0.012457  0.285714   \n",
       "...             ...              ...           ...       ...       ...   \n",
       "1339         0.0000         0.784615      0.004639  0.745185  0.452381   \n",
       "1340         0.0875         0.692308      0.035188  0.563270  0.357143   \n",
       "1341         0.0000         0.802198      0.013171  0.799971  0.595238   \n",
       "1342         0.0000         0.741758      0.006880  0.799971  0.190476   \n",
       "1343         0.0000         0.681319      0.021034  0.788858  0.380952   \n",
       "\n",
       "      CI (MPa)  \n",
       "0     0.369673  \n",
       "1     0.342313  \n",
       "2     0.306009  \n",
       "3     0.660633  \n",
       "4     0.006314  \n",
       "...        ...  \n",
       "1339  0.263391  \n",
       "1340  0.303799  \n",
       "1341  0.821109  \n",
       "1342  0.447543  \n",
       "1343  0.715879  \n",
       "\n",
       "[1344 rows x 16 columns]"
      ]
     },
     "execution_count": 10,
     "metadata": {},
     "output_type": "execute_result"
    }
   ],
   "source": [
    "df"
   ]
  },
  {
   "attachments": {},
   "cell_type": "markdown",
   "metadata": {},
   "source": [
    "## HYPERPARAMETRIC TUNING AND MODEL SELECTION"
   ]
  },
  {
   "attachments": {},
   "cell_type": "markdown",
   "metadata": {},
   "source": [
    "Importing machine learning algorithms"
   ]
  },
  {
   "cell_type": "code",
   "execution_count": 11,
   "metadata": {},
   "outputs": [],
   "source": [
    "from sklearn.model_selection import GridSearchCV, StratifiedKFold\n",
    "from sklearn.linear_model import LinearRegression, Ridge, Lasso, ElasticNet\n",
    "from sklearn.svm import SVR\n",
    "from sklearn.tree import DecisionTreeRegressor\n",
    "from sklearn.ensemble import RandomForestRegressor, AdaBoostRegressor, GradientBoostingRegressor\n",
    "from xgboost import XGBRegressor\n",
    "lr = LinearRegression()\n",
    "ridge = Ridge()\n",
    "lasso = Lasso()\n",
    "en = ElasticNet()\n",
    "svr = SVR()\n",
    "dtr = DecisionTreeRegressor()\n",
    "rfr = RandomForestRegressor()\n",
    "abr = AdaBoostRegressor()\n",
    "gbr = GradientBoostingRegressor()\n",
    "xgbr = XGBRegressor()"
   ]
  },
  {
   "attachments": {},
   "cell_type": "markdown",
   "metadata": {},
   "source": [
    "Splitting the dataset into dependent and independent variables"
   ]
  },
  {
   "cell_type": "code",
   "execution_count": 12,
   "metadata": {},
   "outputs": [],
   "source": [
    "X_train, y_train  = df.drop([\"CI (MPa)\"], axis=1), df[\"CI (MPa)\"]"
   ]
  },
  {
   "attachments": {},
   "cell_type": "markdown",
   "metadata": {},
   "source": [
    "Tuning Linear Regression"
   ]
  },
  {
   "cell_type": "code",
   "execution_count": 13,
   "metadata": {},
   "outputs": [],
   "source": [
    "grid_lr = GridSearchCV(estimator=lr, param_grid={\"fit_intercept\" : [True, False],\n",
    "                                                 }, \n",
    "                                                 scoring=\"r2\",\n",
    "                                                 cv=4)"
   ]
  },
  {
   "cell_type": "code",
   "execution_count": 14,
   "metadata": {},
   "outputs": [
    {
     "data": {
      "text/plain": [
       "({'fit_intercept': False}, 0.6705520398579727)"
      ]
     },
     "execution_count": 14,
     "metadata": {},
     "output_type": "execute_result"
    }
   ],
   "source": [
    "grid_lr.fit(X_train, y_train)\n",
    "grid_lr.best_params_, grid_lr.best_score_"
   ]
  },
  {
   "cell_type": "code",
   "execution_count": 15,
   "metadata": {},
   "outputs": [
    {
     "data": {
      "text/plain": [
       "'R2 Score : 67.055'"
      ]
     },
     "execution_count": 15,
     "metadata": {},
     "output_type": "execute_result"
    }
   ],
   "source": [
    "f\"R2 Score : {np.round(grid_lr.best_score_*100,3)}\""
   ]
  },
  {
   "attachments": {},
   "cell_type": "markdown",
   "metadata": {},
   "source": [
    "Tuning Ridge Regression"
   ]
  },
  {
   "cell_type": "code",
   "execution_count": 16,
   "metadata": {},
   "outputs": [],
   "source": [
    "grid_ridge = GridSearchCV(estimator=ridge, param_grid={\"fit_intercept\" : [True, False],\n",
    "                                                        'alpha': np.logspace(-4, 4, 9),\n",
    "                                                        'solver': ['auto', 'svd', 'cholesky', 'lsqr', 'sparse_cg', 'sag', 'saga']},\n",
    "                                                        scoring=\"r2\",\n",
    "                                                        cv=4)"
   ]
  },
  {
   "cell_type": "code",
   "execution_count": 17,
   "metadata": {},
   "outputs": [
    {
     "data": {
      "text/plain": [
       "({'alpha': 1.0, 'fit_intercept': False, 'solver': 'svd'}, 0.6714643993090245)"
      ]
     },
     "execution_count": 17,
     "metadata": {},
     "output_type": "execute_result"
    }
   ],
   "source": [
    "grid_ridge.fit(X_train, y_train)\n",
    "grid_ridge.best_params_, grid_ridge.best_score_"
   ]
  },
  {
   "cell_type": "code",
   "execution_count": 18,
   "metadata": {},
   "outputs": [
    {
     "data": {
      "text/plain": [
       "'R2 Score : 67.146'"
      ]
     },
     "execution_count": 18,
     "metadata": {},
     "output_type": "execute_result"
    }
   ],
   "source": [
    "f\"R2 Score : {np.round(grid_ridge.best_score_*100,3)}\""
   ]
  },
  {
   "attachments": {},
   "cell_type": "markdown",
   "metadata": {},
   "source": [
    "Tuning Lasso Regression"
   ]
  },
  {
   "cell_type": "code",
   "execution_count": 19,
   "metadata": {},
   "outputs": [],
   "source": [
    "grid_lasso = GridSearchCV(estimator=lasso, param_grid={\"fit_intercept\" : [True, False],\n",
    "                                                        'alpha': np.logspace(-3, 3, 7),\n",
    "                                                        'tol': [1e-5, 1e-4, 1e-3]}, \n",
    "                                                        scoring=\"r2\",\n",
    "                                                        cv=4)"
   ]
  },
  {
   "cell_type": "code",
   "execution_count": 20,
   "metadata": {},
   "outputs": [
    {
     "data": {
      "text/plain": [
       "({'alpha': 0.001, 'fit_intercept': False, 'tol': 0.001}, 0.6579542954822035)"
      ]
     },
     "execution_count": 20,
     "metadata": {},
     "output_type": "execute_result"
    }
   ],
   "source": [
    "grid_lasso.fit(X_train, y_train)\n",
    "grid_lasso.best_params_, grid_lasso.best_score_"
   ]
  },
  {
   "cell_type": "code",
   "execution_count": 21,
   "metadata": {},
   "outputs": [
    {
     "data": {
      "text/plain": [
       "'R2 Score : 65.795'"
      ]
     },
     "execution_count": 21,
     "metadata": {},
     "output_type": "execute_result"
    }
   ],
   "source": [
    "f\"R2 Score : {np.round(grid_lasso.best_score_*100,3)}\""
   ]
  },
  {
   "attachments": {},
   "cell_type": "markdown",
   "metadata": {},
   "source": [
    "Tuning ElasticNet Regression"
   ]
  },
  {
   "cell_type": "code",
   "execution_count": 22,
   "metadata": {},
   "outputs": [],
   "source": [
    "grid_en = GridSearchCV(estimator=en, param_grid={\"fit_intercept\" : [True, False],\n",
    "                                                        'alpha': np.logspace(-4, 0, 50), # range of values for l1_ratio\n",
    "                                                        'tol': [1e-3, 1e-4, 1e-5]}, # range of values for tol, \n",
    "                                                        scoring=\"r2\",\n",
    "                                                        cv=4)"
   ]
  },
  {
   "cell_type": "code",
   "execution_count": 23,
   "metadata": {},
   "outputs": [
    {
     "data": {
      "text/plain": [
       "({'alpha': 0.00014563484775012445, 'fit_intercept': False, 'tol': 1e-05},\n",
       " 0.6720001269003869)"
      ]
     },
     "execution_count": 23,
     "metadata": {},
     "output_type": "execute_result"
    }
   ],
   "source": [
    "grid_en.fit(X_train, y_train)\n",
    "grid_en.best_params_, grid_en.best_score_"
   ]
  },
  {
   "cell_type": "code",
   "execution_count": 24,
   "metadata": {},
   "outputs": [
    {
     "data": {
      "text/plain": [
       "'R2 Score : 67.2'"
      ]
     },
     "execution_count": 24,
     "metadata": {},
     "output_type": "execute_result"
    }
   ],
   "source": [
    "f\"R2 Score : {np.round(grid_en.best_score_*100,3)}\""
   ]
  },
  {
   "attachments": {},
   "cell_type": "markdown",
   "metadata": {},
   "source": [
    "Tuning Support Vector Regressor"
   ]
  },
  {
   "cell_type": "code",
   "execution_count": 25,
   "metadata": {},
   "outputs": [],
   "source": [
    "grid_svr = GridSearchCV(estimator=svr, param_grid={\"kernel\":['linear', 'poly', 'rbf', 'sigmoid'],\n",
    "                                                    }, \n",
    "                                                        scoring=\"r2\",\n",
    "                                                        cv=4)"
   ]
  },
  {
   "cell_type": "code",
   "execution_count": 26,
   "metadata": {},
   "outputs": [
    {
     "data": {
      "text/plain": [
       "({'kernel': 'rbf'}, 0.7344156498855053)"
      ]
     },
     "execution_count": 26,
     "metadata": {},
     "output_type": "execute_result"
    }
   ],
   "source": [
    "grid_svr.fit(X_train, y_train)\n",
    "grid_svr.best_params_, grid_svr.best_score_"
   ]
  },
  {
   "cell_type": "code",
   "execution_count": 27,
   "metadata": {},
   "outputs": [
    {
     "data": {
      "text/plain": [
       "'R2 Score : 73.442'"
      ]
     },
     "execution_count": 27,
     "metadata": {},
     "output_type": "execute_result"
    }
   ],
   "source": [
    "f\"R2 Score : {np.round(grid_svr.best_score_*100,3)}\""
   ]
  },
  {
   "attachments": {},
   "cell_type": "markdown",
   "metadata": {},
   "source": [
    "Tuning Decision Tree regressor"
   ]
  },
  {
   "cell_type": "code",
   "execution_count": 28,
   "metadata": {},
   "outputs": [],
   "source": [
    "grid_dtr = GridSearchCV(estimator=dtr, \n",
    "                        param_grid={\"criterion\":['squared_error', 'friedman_mse', 'absolute_error', 'poisson'],\n",
    "                                    \"splitter\": [\"best\", \"random\"],\n",
    "                                    \"max_depth\": [3, 5, 7, 10, 15, 25]}, \n",
    "                        \n",
    "                        scoring=\"r2\",\n",
    "                        cv=4)"
   ]
  },
  {
   "cell_type": "code",
   "execution_count": 29,
   "metadata": {},
   "outputs": [
    {
     "data": {
      "text/plain": [
       "({'criterion': 'friedman_mse', 'max_depth': 5, 'splitter': 'best'},\n",
       " 0.7560206527200402)"
      ]
     },
     "execution_count": 29,
     "metadata": {},
     "output_type": "execute_result"
    }
   ],
   "source": [
    "grid_dtr.fit(X_train, y_train)\n",
    "grid_dtr.best_params_, grid_dtr.best_score_"
   ]
  },
  {
   "cell_type": "code",
   "execution_count": 30,
   "metadata": {},
   "outputs": [
    {
     "data": {
      "text/plain": [
       "'R2 Score : 75.602'"
      ]
     },
     "execution_count": 30,
     "metadata": {},
     "output_type": "execute_result"
    }
   ],
   "source": [
    "f\"R2 Score : {np.round(grid_dtr.best_score_*100,3)}\""
   ]
  },
  {
   "attachments": {},
   "cell_type": "markdown",
   "metadata": {},
   "source": [
    "Tuning Random Forest Regressor"
   ]
  },
  {
   "cell_type": "code",
   "execution_count": 31,
   "metadata": {},
   "outputs": [],
   "source": [
    "grid_rfr = GridSearchCV(estimator=rfr, \n",
    "                        param_grid={\"criterion\":['squared_error', 'absolute_error', 'poisson'],\n",
    "                                    \"max_depth\": [3, 5, 7, 10, 15, 25],\n",
    "                                     },\n",
    "                        scoring=\"r2\",\n",
    "                        cv=4)"
   ]
  },
  {
   "cell_type": "code",
   "execution_count": 32,
   "metadata": {},
   "outputs": [
    {
     "data": {
      "text/plain": [
       "({'criterion': 'poisson', 'max_depth': 25}, 0.5798349212753207)"
      ]
     },
     "execution_count": 32,
     "metadata": {},
     "output_type": "execute_result"
    }
   ],
   "source": [
    "grid_rfr.fit(X_train, y_train)\n",
    "grid_rfr.best_params_, grid_rfr.best_score_"
   ]
  },
  {
   "cell_type": "code",
   "execution_count": 33,
   "metadata": {},
   "outputs": [
    {
     "data": {
      "text/plain": [
       "'R2 Score : 57.983'"
      ]
     },
     "execution_count": 33,
     "metadata": {},
     "output_type": "execute_result"
    }
   ],
   "source": [
    "f\"R2 Score : {np.round(grid_rfr.best_score_*100,3)}\""
   ]
  },
  {
   "attachments": {},
   "cell_type": "markdown",
   "metadata": {},
   "source": [
    "Tuning Adaboost regressor"
   ]
  },
  {
   "cell_type": "code",
   "execution_count": 34,
   "metadata": {},
   "outputs": [],
   "source": [
    "grid_abr = GridSearchCV(estimator=abr, \n",
    "                        param_grid={\"loss\":['linear', 'square', 'exponential'],\n",
    "                                     },  \n",
    "                        scoring=\"r2\",\n",
    "                        cv=4)"
   ]
  },
  {
   "cell_type": "code",
   "execution_count": 35,
   "metadata": {},
   "outputs": [
    {
     "data": {
      "text/plain": [
       "({'loss': 'exponential'}, 0.6961927307028789)"
      ]
     },
     "execution_count": 35,
     "metadata": {},
     "output_type": "execute_result"
    }
   ],
   "source": [
    "grid_abr.fit(X_train, y_train)\n",
    "grid_abr.best_params_, grid_abr.best_score_"
   ]
  },
  {
   "cell_type": "code",
   "execution_count": 36,
   "metadata": {},
   "outputs": [
    {
     "data": {
      "text/plain": [
       "'R2 Score : 69.619'"
      ]
     },
     "execution_count": 36,
     "metadata": {},
     "output_type": "execute_result"
    }
   ],
   "source": [
    "f\"R2 Score : {np.round(grid_abr.best_score_*100,3)}\""
   ]
  },
  {
   "attachments": {},
   "cell_type": "markdown",
   "metadata": {},
   "source": [
    "Tuning Gradient Boosting Regressor"
   ]
  },
  {
   "cell_type": "code",
   "execution_count": 37,
   "metadata": {},
   "outputs": [],
   "source": [
    "grid_gbr = GridSearchCV(estimator=gbr, \n",
    "                        param_grid={\"loss\":['squared_error', 'absolute_error', 'huber', 'quantile'],\n",
    "                                    \"criterion\":['friedman_mse', 'squared_error', 'mse']}, \n",
    "                        scoring=\"r2\",\n",
    "                        cv=4)"
   ]
  },
  {
   "cell_type": "code",
   "execution_count": 38,
   "metadata": {},
   "outputs": [
    {
     "data": {
      "text/plain": [
       "({'criterion': 'mse', 'loss': 'huber'}, 0.7986693680173448)"
      ]
     },
     "execution_count": 38,
     "metadata": {},
     "output_type": "execute_result"
    }
   ],
   "source": [
    "grid_gbr.fit(X_train, y_train)\n",
    "grid_gbr.best_params_, grid_gbr.best_score_"
   ]
  },
  {
   "cell_type": "code",
   "execution_count": 39,
   "metadata": {},
   "outputs": [
    {
     "data": {
      "text/plain": [
       "'R2 Score : 79.867'"
      ]
     },
     "execution_count": 39,
     "metadata": {},
     "output_type": "execute_result"
    }
   ],
   "source": [
    "f\"R2 Score : {np.round(grid_gbr.best_score_*100,3)}\""
   ]
  },
  {
   "attachments": {},
   "cell_type": "markdown",
   "metadata": {},
   "source": [
    "Tuning XGBoost regressor"
   ]
  },
  {
   "cell_type": "code",
   "execution_count": 40,
   "metadata": {},
   "outputs": [],
   "source": [
    "grid_xgbr = GridSearchCV(estimator=xgbr, \n",
    "                        param_grid={\n",
    "                                    \"max_depth\": [3, 5, 7, 10, 15, 25],\n",
    "                                     'learning_rate': [0.1, 0.01]}, \n",
    "                        scoring=\"r2\",\n",
    "                        cv=4)"
   ]
  },
  {
   "cell_type": "code",
   "execution_count": 41,
   "metadata": {},
   "outputs": [
    {
     "data": {
      "text/plain": [
       "({'learning_rate': 0.1, 'max_depth': 3}, 0.8012149320771182)"
      ]
     },
     "execution_count": 41,
     "metadata": {},
     "output_type": "execute_result"
    }
   ],
   "source": [
    "grid_xgbr.fit(X_train, y_train)\n",
    "grid_xgbr.best_params_, grid_xgbr.best_score_"
   ]
  },
  {
   "cell_type": "code",
   "execution_count": 42,
   "metadata": {},
   "outputs": [
    {
     "data": {
      "text/plain": [
       "'R2 Score : 80.121'"
      ]
     },
     "execution_count": 42,
     "metadata": {},
     "output_type": "execute_result"
    }
   ],
   "source": [
    "f\"R2 Score : {np.round(grid_xgbr.best_score_*100,3)}\""
   ]
  },
  {
   "attachments": {},
   "cell_type": "markdown",
   "metadata": {},
   "source": [
    "| ML algorithm | R2_score |\n",
    "| -------- | -------- |\n",
    "| Linear Regression |67.05 |\n",
    "| Ridge Regression | 67.14 |\n",
    "| Lasso Regression | 65.79 |\n",
    "| ElaasticNet Regression | 67.20 |\n",
    "| Support Vector Regression | 73.44 |\n",
    "| Decision Tree Regression | 76.43 |\n",
    "| Random Forest Regression | 57.06 |\n",
    "| AdaBoost Regression | 70.45 |\n",
    "| GradientBoost Regression| 79.84 |\n",
    "| XgBoost Regression | 80.12 |\n",
    "\n"
   ]
  },
  {
   "attachments": {},
   "cell_type": "markdown",
   "metadata": {},
   "source": [
    "## MODEL TRAINING"
   ]
  },
  {
   "cell_type": "code",
   "execution_count": 43,
   "metadata": {},
   "outputs": [
    {
     "data": {
      "text/plain": [
       "XGBRegressor(base_score=0.5, booster='gbtree', callbacks=None,\n",
       "             colsample_bylevel=1, colsample_bynode=1, colsample_bytree=1,\n",
       "             early_stopping_rounds=None, enable_categorical=False,\n",
       "             eval_metric=None, gamma=0, gpu_id=-1, grow_policy='depthwise',\n",
       "             importance_type=None, interaction_constraints='',\n",
       "             learning_rate=0.1, max_bin=256, max_cat_to_onehot=4,\n",
       "             max_delta_step=0, max_depth=3, max_leaves=0, min_child_weight=1,\n",
       "             missing=nan, monotone_constraints='()', n_estimators=100, n_jobs=0,\n",
       "             num_parallel_tree=1, predictor='auto', random_state=0, reg_alpha=0,\n",
       "             reg_lambda=1, ...)"
      ]
     },
     "execution_count": 43,
     "metadata": {},
     "output_type": "execute_result"
    }
   ],
   "source": [
    "ci_model = XGBRegressor(learning_rate=0.1, max_depth=3)\n",
    "ci_model.fit(X_train, y_train)"
   ]
  }
 ],
 "metadata": {
  "kernelspec": {
   "display_name": "Python 3 (ipykernel)",
   "language": "python",
   "name": "python3"
  },
  "language_info": {
   "codemirror_mode": {
    "name": "ipython",
    "version": 3
   },
   "file_extension": ".py",
   "mimetype": "text/x-python",
   "name": "python",
   "nbconvert_exporter": "python",
   "pygments_lexer": "ipython3",
   "version": "3.9.7"
  }
 },
 "nbformat": 4,
 "nbformat_minor": 2
}
